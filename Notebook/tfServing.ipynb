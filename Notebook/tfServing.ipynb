{
 "cells": [
  {
   "cell_type": "markdown",
   "metadata": {},
   "source": [
    "# Serving models with TensorFlow Serving"
   ]
  },
  {
   "cell_type": "code",
   "execution_count": 1,
   "metadata": {},
   "outputs": [],
   "source": [
    "import tensorflow as tf\n",
    "from tensorflow import keras"
   ]
  },
  {
   "cell_type": "code",
   "execution_count": 13,
   "metadata": {},
   "outputs": [
    {
     "name": "stdout",
     "output_type": "stream",
     "text": [
      "INFO:tensorflow:Assets written to: ./../Model/segmentation-model/assets\n"
     ]
    },
    {
     "name": "stderr",
     "output_type": "stream",
     "text": [
      "INFO:tensorflow:Assets written to: ./../Model/segmentation-model/assets\n"
     ]
    },
    {
     "name": "stdout",
     "output_type": "stream",
     "text": [
      "Saved artifact at './../Model/segmentation-model/'. The following endpoints are available:\n",
      "\n",
      "* Endpoint 'serve'\n",
      "  args_0 (POSITIONAL_ONLY): TensorSpec(shape=(None, 256, 256, 3), dtype=tf.float32, name='input_1')\n",
      "Output Type:\n",
      "  TensorSpec(shape=(None, 256, 256, 5), dtype=tf.float32, name=None)\n",
      "Captures:\n",
      "  1625739331536: TensorSpec(shape=(), dtype=tf.resource, name=None)\n",
      "  1625739342096: TensorSpec(shape=(), dtype=tf.resource, name=None)\n",
      "  1625711931488: TensorSpec(shape=(), dtype=tf.resource, name=None)\n",
      "  1625711929728: TensorSpec(shape=(), dtype=tf.resource, name=None)\n",
      "  1625711932192: TensorSpec(shape=(), dtype=tf.resource, name=None)\n",
      "  1625711924448: TensorSpec(shape=(), dtype=tf.resource, name=None)\n",
      "  1625739337696: TensorSpec(shape=(), dtype=tf.resource, name=None)\n",
      "  1625711930080: TensorSpec(shape=(), dtype=tf.resource, name=None)\n",
      "  1625711926384: TensorSpec(shape=(), dtype=tf.resource, name=None)\n",
      "  1625711933248: TensorSpec(shape=(), dtype=tf.resource, name=None)\n",
      "  1625739922768: TensorSpec(shape=(), dtype=tf.resource, name=None)\n",
      "  1626398873504: TensorSpec(shape=(), dtype=tf.resource, name=None)\n",
      "  1625711933424: TensorSpec(shape=(), dtype=tf.resource, name=None)\n",
      "  1625711920576: TensorSpec(shape=(), dtype=tf.resource, name=None)\n",
      "  1625739925232: TensorSpec(shape=(), dtype=tf.resource, name=None)\n",
      "  1625711934832: TensorSpec(shape=(), dtype=tf.resource, name=None)\n",
      "  1625711926912: TensorSpec(shape=(), dtype=tf.resource, name=None)\n",
      "  1626767477744: TensorSpec(shape=(), dtype=tf.resource, name=None)\n",
      "  1625711920928: TensorSpec(shape=(), dtype=tf.resource, name=None)\n",
      "  1625707228928: TensorSpec(shape=(), dtype=tf.resource, name=None)\n",
      "  1625739494320: TensorSpec(shape=(), dtype=tf.resource, name=None)\n",
      "  1625711922864: TensorSpec(shape=(), dtype=tf.resource, name=None)\n",
      "  1625707224880: TensorSpec(shape=(), dtype=tf.resource, name=None)\n",
      "  1625707227696: TensorSpec(shape=(), dtype=tf.resource, name=None)\n",
      "  1626767482848: TensorSpec(shape=(), dtype=tf.resource, name=None)\n",
      "  1625711921984: TensorSpec(shape=(), dtype=tf.resource, name=None)\n",
      "  1625739502592: TensorSpec(shape=(), dtype=tf.resource, name=None)\n",
      "  1625707231216: TensorSpec(shape=(), dtype=tf.resource, name=None)\n",
      "  1625739498016: TensorSpec(shape=(), dtype=tf.resource, name=None)\n",
      "  1625707225584: TensorSpec(shape=(), dtype=tf.resource, name=None)\n",
      "  1625707232976: TensorSpec(shape=(), dtype=tf.resource, name=None)\n",
      "  1625707225936: TensorSpec(shape=(), dtype=tf.resource, name=None)\n",
      "  1625739499424: TensorSpec(shape=(), dtype=tf.resource, name=None)\n",
      "  1625707230864: TensorSpec(shape=(), dtype=tf.resource, name=None)\n",
      "  1625707222768: TensorSpec(shape=(), dtype=tf.resource, name=None)\n",
      "  1625707227344: TensorSpec(shape=(), dtype=tf.resource, name=None)\n",
      "  1626097496688: TensorSpec(shape=(), dtype=tf.resource, name=None)\n",
      "  1626771036944: TensorSpec(shape=(), dtype=tf.resource, name=None)\n",
      "  1625739506816: TensorSpec(shape=(), dtype=tf.resource, name=None)\n",
      "  1625739500656: TensorSpec(shape=(), dtype=tf.resource, name=None)\n",
      "  1626789380512: TensorSpec(shape=(), dtype=tf.resource, name=None)\n",
      "  1626789391776: TensorSpec(shape=(), dtype=tf.resource, name=None)\n",
      "  1625739930688: TensorSpec(shape=(), dtype=tf.resource, name=None)\n",
      "  1626771038176: TensorSpec(shape=(), dtype=tf.resource, name=None)\n",
      "  1625739338400: TensorSpec(shape=(), dtype=tf.resource, name=None)\n",
      "  1626789385088: TensorSpec(shape=(), dtype=tf.resource, name=None)\n"
     ]
    }
   ],
   "source": [
    "model = keras.models.load_model('./../Model/model_unet_noClassWeights_drop50_256_30_0.972.keras')\n",
    "saved_model_path = \"./../Model/segmentation-model/\"\n",
    "\n",
    "# Export the keras model as a SavedModel artifact in a filepath.\n",
    "model.export(saved_model_path)\n",
    "\n",
    "\n",
    "# Saving the model in saved_model format\n",
    "#tf.saved_model.save(model, './../Model/segmentation-model')"
   ]
  },
  {
   "cell_type": "code",
   "execution_count": 32,
   "metadata": {},
   "outputs": [
    {
     "name": "stdout",
     "output_type": "stream",
     "text": [
      "The given SavedModel SignatureDef contains the following input(s):\n",
      "  inputs['input_1'] tensor_info:\n",
      "      dtype: DT_FLOAT\n",
      "      shape: (-1, 256, 256, 3)\n",
      "      name: serving_default_input_1:0\n",
      "The given SavedModel SignatureDef contains the following output(s):\n",
      "  outputs['output_0'] tensor_info:\n",
      "      dtype: DT_FLOAT\n",
      "      shape: (-1, 256, 256, 5)\n",
      "      name: StatefulPartitionedCall_1:0\n",
      "Method name is: tensorflow/serving/predict\n"
     ]
    },
    {
     "name": "stderr",
     "output_type": "stream",
     "text": [
      "2024-01-21 11:15:38.013424: I tensorflow/core/util/port.cc:113] oneDNN custom operations are on. You may see slightly different numerical results due to floating-point round-off errors from different computation orders. To turn them off, set the environment variable `TF_ENABLE_ONEDNN_OPTS=0`.\n",
      "WARNING:tensorflow:From d:\\GIT\\ML_Zoomcamp_2023_Capstone2_Project\\.venv\\lib\\site-packages\\keras\\src\\losses.py:2976: The name tf.losses.sparse_softmax_cross_entropy is deprecated. Please use tf.compat.v1.losses.sparse_softmax_cross_entropy instead.\n",
      "\n"
     ]
    }
   ],
   "source": [
    "#!saved_model_cli show --dir './../Model/segmentation-model/' --all\n",
    "#!saved_model_cli show --dir d:\\GIT\\ML_Zoomcamp_2023_Capstone2_Project\\Model\\segmentation-model\\\n",
    "\n",
    "#!saved_model_cli show --dir d:\\GIT\\ML_Zoomcamp_2023_Capstone2_Project\\Model\\segmentation-model\\ --tag_set serve\n",
    "\n",
    "!saved_model_cli show --dir d:\\GIT\\ML_Zoomcamp_2023_Capstone2_Project\\Model\\segmentation-model\\ --tag_set serve --signature_def serving_default"
   ]
  },
  {
   "cell_type": "code",
   "execution_count": 33,
   "metadata": {},
   "outputs": [
    {
     "name": "stdout",
     "output_type": "stream",
     "text": [
      "\n",
      "MetaGraphDef with tag-set: 'serve' contains the following SignatureDefs:\n",
      "\n",
      "signature_def['__saved_model_init_op']:\n",
      "  The given SavedModel SignatureDef contains the following input(s):\n",
      "  The given SavedModel SignatureDef contains the following output(s):\n",
      "    outputs['__saved_model_init_op'] tensor_info:\n",
      "        dtype: DT_INVALID\n",
      "        shape: unknown_rank\n",
      "        name: NoOp\n",
      "  Method name is: \n",
      "\n",
      "signature_def['serve']:\n",
      "  The given SavedModel SignatureDef contains the following input(s):\n",
      "    inputs['input_1'] tensor_info:\n",
      "        dtype: DT_FLOAT\n",
      "        shape: (-1, 256, 256, 3)\n",
      "        name: serve_input_1:0\n",
      "  The given SavedModel SignatureDef contains the following output(s):\n",
      "    outputs['output_0'] tensor_info:\n",
      "        dtype: DT_FLOAT\n",
      "        shape: (-1, 256, 256, 5)\n",
      "        name: StatefulPartitionedCall:0\n",
      "  Method name is: tensorflow/serving/predict\n",
      "\n",
      "signature_def['serving_default']:\n",
      "  The given SavedModel SignatureDef contains the following input(s):\n",
      "    inputs['input_1'] tensor_info:\n",
      "        dtype: DT_FLOAT\n",
      "        shape: (-1, 256, 256, 3)\n",
      "        name: serving_default_input_1:0\n",
      "  The given SavedModel SignatureDef contains the following output(s):\n",
      "    outputs['output_0'] tensor_info:\n",
      "        dtype: DT_FLOAT\n",
      "        shape: (-1, 256, 256, 5)\n",
      "        name: StatefulPartitionedCall_1:0\n",
      "  Method name is: tensorflow/serving/predict\n",
      "The MetaGraph with tag set ['serve'] contains the following ops: {'StatefulPartitionedCall', 'Conv2D', 'AssignVariableOp', 'ConcatV2', 'DisableCopyOnRead', 'SaveV2', 'StridedSlice', 'VarHandleOp', 'RestoreV2', 'StringJoin', 'NoOp', 'Relu', 'StaticRegexFullMatch', 'Const', 'Select', 'ReadVariableOp', 'MaxPool', 'Placeholder', 'BiasAdd', 'Conv2DBackpropInput', 'Pack', 'MergeV2Checkpoints', 'Identity', 'Softmax', 'Shape', 'ShardedFilename'}\n",
      "\n",
      "Concrete Functions:\n",
      "  Function Name: 'serve'\n",
      "    Option #1\n",
      "      Callable with:\n",
      "        Argument #1\n",
      "          input_1: TensorSpec(shape=(None, 256, 256, 3), dtype=tf.float32, name='input_1')\n"
     ]
    },
    {
     "name": "stderr",
     "output_type": "stream",
     "text": [
      "2024-01-21 11:16:20.324626: I tensorflow/core/util/port.cc:113] oneDNN custom operations are on. You may see slightly different numerical results due to floating-point round-off errors from different computation orders. To turn them off, set the environment variable `TF_ENABLE_ONEDNN_OPTS=0`.\n",
      "WARNING:tensorflow:From d:\\GIT\\ML_Zoomcamp_2023_Capstone2_Project\\.venv\\lib\\site-packages\\keras\\src\\losses.py:2976: The name tf.losses.sparse_softmax_cross_entropy is deprecated. Please use tf.compat.v1.losses.sparse_softmax_cross_entropy instead.\n",
      "\n",
      "2024-01-21 11:16:25.651047: I tensorflow/core/platform/cpu_feature_guard.cc:182] This TensorFlow binary is optimized to use available CPU instructions in performance-critical operations.\n",
      "To enable the following instructions: SSE SSE2 SSE3 SSE4.1 SSE4.2 AVX2 FMA, in other operations, rebuild TensorFlow with the appropriate compiler flags.\n"
     ]
    }
   ],
   "source": [
    "!saved_model_cli show --dir d:\\GIT\\ML_Zoomcamp_2023_Capstone2_Project\\Model\\segmentation-model\\ --all"
   ]
  },
  {
   "cell_type": "markdown",
   "metadata": {},
   "source": [
    "# Running TensorFlow Serving locally"
   ]
  },
  {
   "cell_type": "code",
   "execution_count": 38,
   "metadata": {},
   "outputs": [
    {
     "name": "stdout",
     "output_type": "stream",
     "text": [
      "Docker version 20.10.8, build 3967b7d\n"
     ]
    }
   ],
   "source": [
    "!docker -v"
   ]
  },
  {
   "cell_type": "code",
   "execution_count": null,
   "metadata": {},
   "outputs": [],
   "source": [
    "!docker run -it --rm -p 8500:8500 -v \"(cd)/./../Model/segmentation-model:/models/segmentation-model/1\" -e MODEL_NAME=segmentation-model tensorflow/serving:latest-gpu"
   ]
  },
  {
   "cell_type": "code",
   "execution_count": null,
   "metadata": {},
   "outputs": [],
   "source": []
  },
  {
   "cell_type": "code",
   "execution_count": 10,
   "metadata": {},
   "outputs": [
    {
     "name": "stderr",
     "output_type": "stream",
     "text": [
      "the input device is not a TTY.  If you are using mintty, try prefixing the command with 'winpty'\n"
     ]
    }
   ],
   "source": []
  },
  {
   "cell_type": "markdown",
   "metadata": {},
   "source": [
    "# Invoking the TF Serving model from Jupyter"
   ]
  },
  {
   "cell_type": "code",
   "execution_count": 11,
   "metadata": {},
   "outputs": [
    {
     "name": "stdout",
     "output_type": "stream",
     "text": [
      "Requirement already satisfied: grpcio in d:\\git\\ml_zoomcamp_2023_capstone2_project\\.venv\\lib\\site-packages (1.60.0)\n",
      "Collecting tensorflow-serving-api\n",
      "  Downloading tensorflow_serving_api-2.14.1-py2.py3-none-any.whl.metadata (1.8 kB)\n",
      "Requirement already satisfied: protobuf!=4.21.0,!=4.21.1,!=4.21.2,!=4.21.3,!=4.21.4,!=4.21.5,<5.0.0dev,>=3.20.3 in d:\\git\\ml_zoomcamp_2023_capstone2_project\\.venv\\lib\\site-packages (from tensorflow-serving-api) (4.23.4)\n",
      "Requirement already satisfied: tensorflow<3,>=2.14.1 in d:\\git\\ml_zoomcamp_2023_capstone2_project\\.venv\\lib\\site-packages (from tensorflow-serving-api) (2.15.0)\n",
      "Requirement already satisfied: tensorflow-intel==2.15.0 in d:\\git\\ml_zoomcamp_2023_capstone2_project\\.venv\\lib\\site-packages (from tensorflow<3,>=2.14.1->tensorflow-serving-api) (2.15.0)\n",
      "Requirement already satisfied: absl-py>=1.0.0 in d:\\git\\ml_zoomcamp_2023_capstone2_project\\.venv\\lib\\site-packages (from tensorflow-intel==2.15.0->tensorflow<3,>=2.14.1->tensorflow-serving-api) (2.0.0)\n",
      "Requirement already satisfied: astunparse>=1.6.0 in d:\\git\\ml_zoomcamp_2023_capstone2_project\\.venv\\lib\\site-packages (from tensorflow-intel==2.15.0->tensorflow<3,>=2.14.1->tensorflow-serving-api) (1.6.3)\n",
      "Requirement already satisfied: flatbuffers>=23.5.26 in d:\\git\\ml_zoomcamp_2023_capstone2_project\\.venv\\lib\\site-packages (from tensorflow-intel==2.15.0->tensorflow<3,>=2.14.1->tensorflow-serving-api) (23.5.26)\n",
      "Requirement already satisfied: gast!=0.5.0,!=0.5.1,!=0.5.2,>=0.2.1 in d:\\git\\ml_zoomcamp_2023_capstone2_project\\.venv\\lib\\site-packages (from tensorflow-intel==2.15.0->tensorflow<3,>=2.14.1->tensorflow-serving-api) (0.5.4)\n",
      "Requirement already satisfied: google-pasta>=0.1.1 in d:\\git\\ml_zoomcamp_2023_capstone2_project\\.venv\\lib\\site-packages (from tensorflow-intel==2.15.0->tensorflow<3,>=2.14.1->tensorflow-serving-api) (0.2.0)\n",
      "Requirement already satisfied: h5py>=2.9.0 in d:\\git\\ml_zoomcamp_2023_capstone2_project\\.venv\\lib\\site-packages (from tensorflow-intel==2.15.0->tensorflow<3,>=2.14.1->tensorflow-serving-api) (3.10.0)\n",
      "Requirement already satisfied: libclang>=13.0.0 in d:\\git\\ml_zoomcamp_2023_capstone2_project\\.venv\\lib\\site-packages (from tensorflow-intel==2.15.0->tensorflow<3,>=2.14.1->tensorflow-serving-api) (16.0.6)\n",
      "Requirement already satisfied: ml-dtypes~=0.2.0 in d:\\git\\ml_zoomcamp_2023_capstone2_project\\.venv\\lib\\site-packages (from tensorflow-intel==2.15.0->tensorflow<3,>=2.14.1->tensorflow-serving-api) (0.2.0)\n",
      "Requirement already satisfied: numpy<2.0.0,>=1.23.5 in d:\\git\\ml_zoomcamp_2023_capstone2_project\\.venv\\lib\\site-packages (from tensorflow-intel==2.15.0->tensorflow<3,>=2.14.1->tensorflow-serving-api) (1.26.3)\n",
      "Requirement already satisfied: opt-einsum>=2.3.2 in d:\\git\\ml_zoomcamp_2023_capstone2_project\\.venv\\lib\\site-packages (from tensorflow-intel==2.15.0->tensorflow<3,>=2.14.1->tensorflow-serving-api) (3.3.0)\n",
      "Requirement already satisfied: packaging in d:\\git\\ml_zoomcamp_2023_capstone2_project\\.venv\\lib\\site-packages (from tensorflow-intel==2.15.0->tensorflow<3,>=2.14.1->tensorflow-serving-api) (23.2)\n",
      "Requirement already satisfied: setuptools in d:\\git\\ml_zoomcamp_2023_capstone2_project\\.venv\\lib\\site-packages (from tensorflow-intel==2.15.0->tensorflow<3,>=2.14.1->tensorflow-serving-api) (65.5.0)\n",
      "Requirement already satisfied: six>=1.12.0 in d:\\git\\ml_zoomcamp_2023_capstone2_project\\.venv\\lib\\site-packages (from tensorflow-intel==2.15.0->tensorflow<3,>=2.14.1->tensorflow-serving-api) (1.16.0)\n",
      "Requirement already satisfied: termcolor>=1.1.0 in d:\\git\\ml_zoomcamp_2023_capstone2_project\\.venv\\lib\\site-packages (from tensorflow-intel==2.15.0->tensorflow<3,>=2.14.1->tensorflow-serving-api) (2.4.0)\n",
      "Requirement already satisfied: typing-extensions>=3.6.6 in d:\\git\\ml_zoomcamp_2023_capstone2_project\\.venv\\lib\\site-packages (from tensorflow-intel==2.15.0->tensorflow<3,>=2.14.1->tensorflow-serving-api) (4.9.0)\n",
      "Requirement already satisfied: wrapt<1.15,>=1.11.0 in d:\\git\\ml_zoomcamp_2023_capstone2_project\\.venv\\lib\\site-packages (from tensorflow-intel==2.15.0->tensorflow<3,>=2.14.1->tensorflow-serving-api) (1.14.1)\n",
      "Requirement already satisfied: tensorflow-io-gcs-filesystem>=0.23.1 in d:\\git\\ml_zoomcamp_2023_capstone2_project\\.venv\\lib\\site-packages (from tensorflow-intel==2.15.0->tensorflow<3,>=2.14.1->tensorflow-serving-api) (0.31.0)\n",
      "Requirement already satisfied: tensorboard<2.16,>=2.15 in d:\\git\\ml_zoomcamp_2023_capstone2_project\\.venv\\lib\\site-packages (from tensorflow-intel==2.15.0->tensorflow<3,>=2.14.1->tensorflow-serving-api) (2.15.1)\n",
      "Requirement already satisfied: tensorflow-estimator<2.16,>=2.15.0 in d:\\git\\ml_zoomcamp_2023_capstone2_project\\.venv\\lib\\site-packages (from tensorflow-intel==2.15.0->tensorflow<3,>=2.14.1->tensorflow-serving-api) (2.15.0)\n",
      "Requirement already satisfied: keras<2.16,>=2.15.0 in d:\\git\\ml_zoomcamp_2023_capstone2_project\\.venv\\lib\\site-packages (from tensorflow-intel==2.15.0->tensorflow<3,>=2.14.1->tensorflow-serving-api) (2.15.0)\n",
      "Requirement already satisfied: wheel<1.0,>=0.23.0 in d:\\git\\ml_zoomcamp_2023_capstone2_project\\.venv\\lib\\site-packages (from astunparse>=1.6.0->tensorflow-intel==2.15.0->tensorflow<3,>=2.14.1->tensorflow-serving-api) (0.42.0)\n",
      "Requirement already satisfied: google-auth<3,>=1.6.3 in d:\\git\\ml_zoomcamp_2023_capstone2_project\\.venv\\lib\\site-packages (from tensorboard<2.16,>=2.15->tensorflow-intel==2.15.0->tensorflow<3,>=2.14.1->tensorflow-serving-api) (2.26.1)\n",
      "Requirement already satisfied: google-auth-oauthlib<2,>=0.5 in d:\\git\\ml_zoomcamp_2023_capstone2_project\\.venv\\lib\\site-packages (from tensorboard<2.16,>=2.15->tensorflow-intel==2.15.0->tensorflow<3,>=2.14.1->tensorflow-serving-api) (1.2.0)\n",
      "Requirement already satisfied: markdown>=2.6.8 in d:\\git\\ml_zoomcamp_2023_capstone2_project\\.venv\\lib\\site-packages (from tensorboard<2.16,>=2.15->tensorflow-intel==2.15.0->tensorflow<3,>=2.14.1->tensorflow-serving-api) (3.5.1)\n",
      "Requirement already satisfied: requests<3,>=2.21.0 in d:\\git\\ml_zoomcamp_2023_capstone2_project\\.venv\\lib\\site-packages (from tensorboard<2.16,>=2.15->tensorflow-intel==2.15.0->tensorflow<3,>=2.14.1->tensorflow-serving-api) (2.31.0)\n",
      "Requirement already satisfied: tensorboard-data-server<0.8.0,>=0.7.0 in d:\\git\\ml_zoomcamp_2023_capstone2_project\\.venv\\lib\\site-packages (from tensorboard<2.16,>=2.15->tensorflow-intel==2.15.0->tensorflow<3,>=2.14.1->tensorflow-serving-api) (0.7.2)\n",
      "Requirement already satisfied: werkzeug>=1.0.1 in d:\\git\\ml_zoomcamp_2023_capstone2_project\\.venv\\lib\\site-packages (from tensorboard<2.16,>=2.15->tensorflow-intel==2.15.0->tensorflow<3,>=2.14.1->tensorflow-serving-api) (3.0.1)\n",
      "Requirement already satisfied: cachetools<6.0,>=2.0.0 in d:\\git\\ml_zoomcamp_2023_capstone2_project\\.venv\\lib\\site-packages (from google-auth<3,>=1.6.3->tensorboard<2.16,>=2.15->tensorflow-intel==2.15.0->tensorflow<3,>=2.14.1->tensorflow-serving-api) (5.3.2)\n",
      "Requirement already satisfied: pyasn1-modules>=0.2.1 in d:\\git\\ml_zoomcamp_2023_capstone2_project\\.venv\\lib\\site-packages (from google-auth<3,>=1.6.3->tensorboard<2.16,>=2.15->tensorflow-intel==2.15.0->tensorflow<3,>=2.14.1->tensorflow-serving-api) (0.3.0)\n",
      "Requirement already satisfied: rsa<5,>=3.1.4 in d:\\git\\ml_zoomcamp_2023_capstone2_project\\.venv\\lib\\site-packages (from google-auth<3,>=1.6.3->tensorboard<2.16,>=2.15->tensorflow-intel==2.15.0->tensorflow<3,>=2.14.1->tensorflow-serving-api) (4.9)\n",
      "Requirement already satisfied: requests-oauthlib>=0.7.0 in d:\\git\\ml_zoomcamp_2023_capstone2_project\\.venv\\lib\\site-packages (from google-auth-oauthlib<2,>=0.5->tensorboard<2.16,>=2.15->tensorflow-intel==2.15.0->tensorflow<3,>=2.14.1->tensorflow-serving-api) (1.3.1)\n",
      "Requirement already satisfied: charset-normalizer<4,>=2 in d:\\git\\ml_zoomcamp_2023_capstone2_project\\.venv\\lib\\site-packages (from requests<3,>=2.21.0->tensorboard<2.16,>=2.15->tensorflow-intel==2.15.0->tensorflow<3,>=2.14.1->tensorflow-serving-api) (3.3.2)\n",
      "Requirement already satisfied: idna<4,>=2.5 in d:\\git\\ml_zoomcamp_2023_capstone2_project\\.venv\\lib\\site-packages (from requests<3,>=2.21.0->tensorboard<2.16,>=2.15->tensorflow-intel==2.15.0->tensorflow<3,>=2.14.1->tensorflow-serving-api) (3.6)\n",
      "Requirement already satisfied: urllib3<3,>=1.21.1 in d:\\git\\ml_zoomcamp_2023_capstone2_project\\.venv\\lib\\site-packages (from requests<3,>=2.21.0->tensorboard<2.16,>=2.15->tensorflow-intel==2.15.0->tensorflow<3,>=2.14.1->tensorflow-serving-api) (2.1.0)\n",
      "Requirement already satisfied: certifi>=2017.4.17 in d:\\git\\ml_zoomcamp_2023_capstone2_project\\.venv\\lib\\site-packages (from requests<3,>=2.21.0->tensorboard<2.16,>=2.15->tensorflow-intel==2.15.0->tensorflow<3,>=2.14.1->tensorflow-serving-api) (2023.11.17)\n",
      "Requirement already satisfied: MarkupSafe>=2.1.1 in d:\\git\\ml_zoomcamp_2023_capstone2_project\\.venv\\lib\\site-packages (from werkzeug>=1.0.1->tensorboard<2.16,>=2.15->tensorflow-intel==2.15.0->tensorflow<3,>=2.14.1->tensorflow-serving-api) (2.1.3)\n",
      "Requirement already satisfied: pyasn1<0.6.0,>=0.4.6 in d:\\git\\ml_zoomcamp_2023_capstone2_project\\.venv\\lib\\site-packages (from pyasn1-modules>=0.2.1->google-auth<3,>=1.6.3->tensorboard<2.16,>=2.15->tensorflow-intel==2.15.0->tensorflow<3,>=2.14.1->tensorflow-serving-api) (0.5.1)\n",
      "Requirement already satisfied: oauthlib>=3.0.0 in d:\\git\\ml_zoomcamp_2023_capstone2_project\\.venv\\lib\\site-packages (from requests-oauthlib>=0.7.0->google-auth-oauthlib<2,>=0.5->tensorboard<2.16,>=2.15->tensorflow-intel==2.15.0->tensorflow<3,>=2.14.1->tensorflow-serving-api) (3.2.2)\n",
      "Downloading tensorflow_serving_api-2.14.1-py2.py3-none-any.whl (26 kB)\n",
      "Installing collected packages: tensorflow-serving-api\n",
      "Successfully installed tensorflow-serving-api-2.14.1\n"
     ]
    }
   ],
   "source": [
    "!pip install grpcio tensorflow-serving-api"
   ]
  },
  {
   "cell_type": "code",
   "execution_count": null,
   "metadata": {},
   "outputs": [],
   "source": []
  }
 ],
 "metadata": {
  "kernelspec": {
   "display_name": ".venv",
   "language": "python",
   "name": "python3"
  },
  "language_info": {
   "codemirror_mode": {
    "name": "ipython",
    "version": 3
   },
   "file_extension": ".py",
   "mimetype": "text/x-python",
   "name": "python",
   "nbconvert_exporter": "python",
   "pygments_lexer": "ipython3",
   "version": "3.10.11"
  }
 },
 "nbformat": 4,
 "nbformat_minor": 2
}
